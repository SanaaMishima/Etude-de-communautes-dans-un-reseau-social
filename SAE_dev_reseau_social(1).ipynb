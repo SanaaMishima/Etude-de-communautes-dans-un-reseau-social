
    {
      "cell_type": "markdown",
      "source": "## <center> Sujet </center>\n\nUne *communauté* est un ensemble de personnes développant des interactions dans un réseau social.\n\nDans ce projet, on étudie des communautés modélisées sous différentes formes. Pour cela, on développe des fonctions permettant d'extraire des informations relatives à ces réseaux. ",
      "metadata": {
        "deletable": false,
        "editable": false,
        "run_control": {
          "frozen": true
        }
      }
    },
    {
      "cell_type": "markdown",
      "source": "On modélise, dans un premier temps, les interactions entre personnes dans un tableau `amis` de chaînes de caractères contenant les prénoms des membres du réseau et tel que `amis[2*i]` a des interactions avec `amis[2*i+1]`.\n\nOn suppose que chaque interaction n'est décrite qu'une seule fois dans le tableau, et qu'une personne n'a pas d'interaction avec elle-même.\n\n**Exemple** : ",
      "metadata": {
        "deletable": false,
        "editable": false,
        "run_control": {
          "frozen": true
        }
      }
    },
    {
      "cell_type": "code",
      "source": "amis = [\"Alice\", \"Bob\", \"Alice\", \"Charlie\", \"Bob\", \"Denis\"]",
      "metadata": {
        "deletable": false,
        "editable": false,
        "trusted": true
      },
      "outputs": [],
      "execution_count": null
    },
    {
      "cell_type": "markdown",
      "source": "Ici, \n- Alice a des interactions Bob et Charlie, \n- Bob a des intractions avec Alice et Denis,\n- Charlie a des interactions avec Alice,\n- Denis a des interactions avec Bob.",
      "metadata": {
        "deletable": false,
        "editable": false,
        "run_control": {
          "frozen": true
        }
      }
    },
    {
      "cell_type": "markdown",
      "source": "#### Question préliminaire : Modélisation d'un réseau par un tableau\n\nMuriel, Yasmine et Joël sont amis. Yasmine est amie avec Thomas. \nJoël, Nassim, Andrea et Ali sont amis. Thomas est ami de Daria et Carole. Thierry, Axel et Léo sont amis. Léo est ami de Valentin qui est ami d'Andrea.\n\n- Construire un tableau `p_amis` qui modélise ce réseau d'amitié en selon le principe qui vient d'être décrit.",
      "metadata": {
        "deletable": false,
        "editable": false,
        "run_control": {
          "frozen": true
        }
      }
    },
    {
      "cell_type": "code",
      "source": "p_amis1=[\"Muriel\",\"Yasmine\",\"Muriel\",\"Joel\",\n        \"Yasmine\",\"Joel\",\"Yasmine\",\"Thomas\",\n        \"Joel\",\"Nassim\",\"Joel\",\"Andrea\",\"Joel\",\"Ali\",\n        \"Nassim\",\"Andrea\",\"Nassim\",\"Ali\",\n        \"Andrea\",\"Ali\",\n        \"Thomas\",\"Daria\",\"Thomas\",\"Carole\",\n        \"Thierry\",\"Axel\",\"Thierry\",\"Leo\",\n        \"Axel\",\"Leo\",\n        \"Valentin\",\"Leo\",\"Valentin\",\"Andrea\"]\n",
      "metadata": {
        "trusted": true
      },
      "outputs": [],
      "execution_count": 3
    },
    {
      "cell_type": "markdown",
      "source": "#### Question 1 : Nombre d'amis d'une personne\n\n- Étant donné un tableau `amis`, écrire une fonction `nb_amis(amis, prenom)` qui retourne le nombre d'amis de `prenom` à partir des données du tableau `amis`. ",
      "metadata": {
        "deletable": false,
        "editable": false,
        "run_control": {
          "frozen": true
        }
      }
    },
    {
      "cell_type": "markdown",
      "source": "Dans la fonction `nb_amis`, nous avons décidé de faire une boucle qui permet de lire l'entièreté d'un tableau donné \n(tableau d'intéractions entre personnes). Lorsqu'il regarde un par un, il vérifie si `prenom` est égal au prénom à l'indice i par exemple : Leo.\nSi `prenom` est égale au nom à l'indice i alors il ajoute 1 à la variable `nb_amis_de_prenom` pour savoir le nombre d'amis de\ncette personne. En effet, si le `prenom` apparait dans le tableau, c'est pour décrire une intéraction et donc le fait que `prenom` soit ami de quelqu'un. Lorque le tableau a été entièrement vérifié, la fonction retourne le nombre d'amis de cette personne.",
      "metadata": {}
    },
    {
      "cell_type": "code",
      "source": "def nb_amis(amis,prenom):\n    \"\"\"Cette fonction retourne le nombre d'amis d'une personne ('prenom') \n    passé en paramètre à partir d'un tableau d'intéractions ('amis') également \n    passé en paramètre\n    \n    Arguments :\n    amis -- tableau d'intéractions (liste)\n    prenom -- prénom d'une personne dans 'amis' (chaine de caractères)\"\"\"\n    nb_amis_de_prenom=0\n    i=0\n    while i<len(amis):\n        if amis[i]==prenom: #vérifie si le nom à l'indice i dans 'amis' est le même que 'prenom' passé en paramètre\n            nb_amis_de_prenom+=1\n        i+=1 #on ajoute 1 à chaque fois pour vérifier chaque élément dans le tableau\n    return nb_amis_de_prenom\n\n\n\ndef test_nb_amis():\n    assert nb_amis(p_amis1,'Muriel')==2\n    assert nb_amis(p_amis1,'Yasmine')==3\n    assert nb_amis(p_amis1,'Joel')==5\n    assert nb_amis(p_amis1,'Thomas')==3\n    assert nb_amis(p_amis1,'Nassim')==3\n    assert nb_amis(p_amis1,'Andrea')==4\n    assert nb_amis(p_amis1,'Ali')==3\n    assert nb_amis(p_amis1,'Daria')==1\n    assert nb_amis(p_amis1,'Carole')==1\n    assert nb_amis(p_amis1,'Thierry')==2\n    assert nb_amis(p_amis1,'Axel')==2\n    assert nb_amis(p_amis1,'Leo')==3\n    assert nb_amis(p_amis1,'Valentin')==2\n    print('Test de la fonction nb_amis : ok')\n\ntest_nb_amis()\n",
      "metadata": {
        "trusted": true
      },
      "outputs": [],
      "execution_count": null
    },
    {
      "cell_type": "markdown",
      "source": "#### Question 2 : Nombre de membres d'un réseau social \n\n- Ecrire une fonction `taille_reseau(amis)` qui à partir d'un tableau `amis`retourne le nombre de personnes distinctes participant à ce réseau social.",
      "metadata": {
        "deletable": false,
        "editable": false,
        "run_control": {
          "frozen": true
        }
      }
    },
    {
      "cell_type": "code",
      "source": "p_amis2=[\"Muriel\",\"Yasmine\",\"Muriel\",\"Joel\",\n        \"Yasmine\",\"Joel\",\"Yasmine\",\"Thomas\",\n        \"Joel\",\"Nassim\",\"Joel\",\"Andrea\",\"Joel\",\"Ali\",]\n\np_amis3=[\"Andrea\",\"Ali\",\n        \"Thomas\",\"Daria\",\"Thomas\",\"Carole\",\n        \"Thierry\",\"Axel\",\"Thierry\",\"Leo\",\n        \"Axel\",\"Leo\"]",
      "metadata": {
        "trusted": true
      },
      "outputs": [],
      "execution_count": 6
    },
    {
      "cell_type": "markdown",
      "source": "Dans la fonction `taille_reseau`, nous avons décidé de faire un tableau vide du nom de `personnes` qui va ajouter les différents noms du tableau d'intéractions `amis`, en vérifiant à chaque fois que le nom n'est pas déjà présent dans `personnes` afin d'éviter les doublons. La fonction retourne le nombre de noms qu'il y a dans ce tableau à la fin.",
      "metadata": {}
    },
    {
      "cell_type": "code",
      "source": "def taille_reseau(amis):\n    \"\"\"Cette fonction retourne le nombre de personnes \n    distinctes présentes dans un tableau d'intéractions ('amis') \n    passé en paramètres.\n    \n    Argument :\n    amis -- tableau d'intéractions (liste)\"\"\"\n    personnes=[] #création d'un tableau vide que l'on remplira au fur et à mesure\n    i=0\n    while i<len(amis):\n        if amis[i] not in personnes: #vérifie si le nom à l'indice i dans 'amis' n'est pas présent dans le tableau 'personnes'\n            personnes.append(amis[i])\n        i+=1\n    return len(personnes) #retourne le nombre de personnes présentes dans le tableau 'personnes'\n\ntaille_reseau(p_amis1)\n\n\ndef test_taille_reseau():\n    assert taille_reseau(p_amis1)==13\n    assert taille_reseau(p_amis2)==7\n    assert taille_reseau(p_amis3)==8\n    assert not taille_reseau(p_amis1)==7\n    assert not taille_reseau(p_amis2)==8\n    assert not taille_reseau(p_amis3)==13\n    print('Test de la fonction taille_reseau : ok')\n\ntest_taille_reseau()\n\n",
      "metadata": {
        "trusted": true
      },
      "outputs": [
        {
          "execution_count": 9,
          "output_type": "execute_result",
          "data": {
            "text/plain": "13"
          },
          "metadata": {}
        }
      ],
      "execution_count": 9
    },
    {
      "cell_type": "markdown",
      "source": "#### Question 3 :  Lecture des données d'un réseau à partir d'un fichier\nOn suppose que les données sur un réseau social sont stockées dans un fichier CSV de la manière suivante :\n```\nprenom1;prenom2\nprenom3;prenom4\nprenom5;prenom6\n...\n```\nAutrement dit, chaque ligne du fichier contient une paire de prénoms séparés par un `';'` correspondant à deux personnes ayant des interactions. \n\n**NB** : Quatre fichiers CSV de ce type sont fournis dans le répertoire `files/`, il s'agit des fichiers`Communaute1.csv`, `Communaute2.csv`,`Communaute3.csv` et `Communaute4.csv`. \nIl est recommandé d'en fabriquer d'autres. \n\n- Ecrire une fonction `lecture_reseau(path)` prenant en paramètre un chemin vers un tel fichier CSV et retournant un tableau modélisant les interactions entre les personnes du fichier.",
      "metadata": {
        "deletable": false,
        "editable": false,
        "run_control": {
          "frozen": true
        }
      }
    },
    {
      "cell_type": "code",
      "source": "tab_commun1=['Barbra', 'Cloe', 'Louis', 'Rufino', 'Idelle', 'Mady', 'Björn', 'Giedrius', 'Cloe', 'Glenys', 'Barbra', 'Vittorio', 'Mady', 'Rufino',\n             'Barbra','Marwa', 'Cloe', 'Louis', 'Björn', 'Faizel', 'Giedrius', 'Rufino', 'Mady', 'Vittore', 'Giedrius', 'Louis', 'Cloe', 'Placide',\n             'Cloe', 'Teodor', 'Kirsa', 'Vittorio', 'Idelle', 'Marwa', 'Placide', 'Rufino', 'Giedrius', 'Illtyd', 'Björn', 'Cloe', 'Björn', 'Rufino',\n             'Louis', 'Placide', 'Barbra', 'Rufino', 'Louis', 'Vittorio', 'Olavi', 'Placide', 'Rufino', 'Teodor', 'Louis', 'Olavi', 'Faizel', 'Rufino',\n             'Olavi', 'Vittorio', 'Barbra', 'Louis', 'Placide', 'Vittorio', 'Barbra', 'Kirsa', 'Illtyd', 'Rufino', 'Jakob', 'Mady', 'Barbra', 'Vittore',\n             'Björn', 'Idelle', 'Cloe', 'Vittore', 'Olavi', 'Teodor', 'Jakob', 'Placide', 'Cain', 'Vittorio', 'Barbra', 'Faizel', 'Giedrius', 'Mady',\n             'Kirsa', 'Vittore', 'Barbra', 'Mady', 'Jakob', 'Kirsa', 'Björn', 'Mady', 'Björn', 'Teodor', 'Cloe', 'Vittorio', 'Illtyd', 'Olavi', 'Olavi',\n             'Rufino', 'Giedrius', 'Glenys', 'Rufino', 'Vittorio', 'Björn', 'Olavi', 'Björn', 'Louis', 'Louis', 'Vittore', 'Mady', 'Teodor', 'Vittore',\n             'Vittorio', 'Faizel', 'Placide', 'Cloe', 'Mady', 'Cain', 'Placide', 'Mady', 'Vittorio', 'Cloe', 'Idelle', 'Mady', 'Placide', 'Giedrius',\n             'Vittorio', 'Faizel', 'Olavi', 'Björn', 'Vittore', 'Idelle', 'Illtyd', 'Barbra', 'Olavi']\n\ntab_commun2=['Mady', 'Zayneb', 'Honorata', 'Iagan', 'Cain', 'Satchel', 'Honorata', 'Petru', 'Damhnait', 'Áron', 'Aimee', 'Kirsa', 'Chatzkel', 'Liesa',\n             'Idelle', 'Keith', 'Lizzy', 'Vittorio', 'Gaétan', 'Salomão', 'Björn', 'Grwn', 'Amadeo', 'Cloe', 'Grwn', 'Pavao', 'Hagir', 'Ramsay',\n             'Gaétan', 'Liesa', 'Damhnait', 'Vittore', 'Hagir', 'Imane', 'Dragan', 'Mireille', 'Despoina', 'Gawel', 'Phuong', 'Ramsay', 'Argus',\n             'Dragan', 'Cameron', 'Mélanie', 'Barbra', 'Louis', 'Lujayn', 'Séléna', 'Dragan', 'Évike', 'Barbra', 'Dragan', 'Barbra', 'Glenys',\n             'Sabino', 'Shayla', 'Bridger', 'Glenys', 'Honorata', 'Mireille', 'Duff', 'Ixchel', 'Cloe', 'Louis', 'Olavi', 'Vibol', 'Christ', 'Gaétan',\n             'Duff', 'Ramsay', 'Mireille', 'Phuong', 'Gergõ', 'Glenys', 'Pavao', 'Yassin', 'Lizzy', 'Mélanie', 'Despoina', 'Marwa', 'Illtyd', 'Lizzy',\n             'Finn', 'Placide', 'Giedrius', 'Vibol', 'Gawel', 'Iagan', 'Despoina', 'Stéphanie', 'Howell', 'Olavi', 'Keld', 'Mady', 'Montserrat',\n             'Silviu', 'Ixchel', 'Shayla', 'Grwn', 'Illtyd', 'Louis', 'Placide', 'Chatzkel', 'Shirine', 'Iagan', 'Phuong', 'Amadeo', 'Glenys', 'Jakob',\n             'Lizzy', 'Cain', 'Gawel', 'Keld', 'Lalie', 'Draco', 'Gawel', 'Imane', 'Ixchel', 'Hagir', 'Pavao', 'Aliya', 'Zayneb', 'Gaétan', 'Olavi',\n             'Argus', 'Satchel', 'Imane', 'Ágoston', 'Lizzy', 'Shayla', 'Glenys', 'Séléna', 'Cain', 'Olavi', 'Dragan', 'Imane', 'Edmonda', 'Sabino',\n             'Marwa', 'Séléna', 'Liesa', 'Marwa', 'Hagir', 'Simo', 'Ambrogio', 'Gaétan', 'Aimee', 'Honorata', 'Naheed', 'Shayla', 'Amadeo', 'Damhnait',\n             'Dany', 'Mady', 'Björn', 'Évike', 'Dragan', 'Salomão', 'Björn', 'Vittore', 'Petru', 'Shayla', 'Aliya', 'Áron', 'Eliezer', 'Glenys',\n             'Christ', 'Gawel', 'Kirsa', 'Papillion', 'Gaétan', 'Sabino', 'Björn', 'Dany', 'Barbra', 'Christ', 'Christ', 'Vibol', 'Jakob', 'Ziva',\n             'Glenys', 'Imane', 'Christ', 'Dany', 'Gergõ', 'Édouard', 'Barbra', 'Natasa', 'Emmy', 'Stéphanie', 'Christ', 'Iagan', 'Björn', 'Gergõ',\n             'Lalie', 'Salomão', 'Aimee', 'Imane', 'Gordon', 'Natasa', 'Ixchel', 'Menashe', 'Aimee', 'Menashe', 'Argus', 'Duff', 'Draco', 'Gordon',\n             'Amadeo', 'Phuong', 'Gawel', 'Évike', 'Aimee', 'Finn', 'Silviu', 'Stéphanie', 'Christ', 'Vittore', 'Iagan', 'Pavao', 'Keith', 'Naheed',\n             'Barbra', 'Grwn', 'Cloe', 'Illtyd', 'Glenys', 'Idelle', 'Damhnait', 'Placide', 'Mady', 'Placide', 'Edmonda', 'Epaphroditos', 'Draco',\n             'Epaphroditos', 'Chatzkel', 'Keith', 'Emmy', 'Griffith', 'Gawel', 'Gaétan', 'Jacaline', 'Keld', 'Menashe', 'Placide', 'Faizel', 'Imane',\n             'Keld', 'Mélanie', 'Emmy', 'Imane', 'Björn', 'Illtyd', 'Olavi', 'Petru', 'Finn', 'Lujayn', 'Gordon', 'Ixchel', 'Pavao', 'Ziva', 'Dragan',\n             'Edmonda', 'Cloe', 'Liesa', 'Ziva', 'Áron', 'Lalie', 'Silviu', 'Cowal', 'Edmonda', 'Jakob', 'Vittorio', 'Damhnait', 'Gawel', 'Faizel',\n             'Lizzy', 'Cardea', 'Séverin', 'Ixchel', 'Séléna', 'Christ', 'Séléna', 'Duff', 'Grwn', 'Ramsay', 'Vibol', 'Petru', 'Phuong', 'Amadeo',\n             'Faizel', 'Ambrogio', 'Petru', 'Lujayn', 'Rufino', 'Jari', 'Lizzy', 'Honorata', 'Menashe', 'Kirsa', 'Petru', 'Dany', 'Pavao', 'Phuong',\n             'Vittorio', 'Pavao', 'Vittore', 'Lujayn', 'Silviu', 'Emmy', 'Shirine', 'Chatzkel', 'Dany', 'Glenys', 'Zayneb', 'Imane', 'Simo', 'Gordon',\n             'Séléna', 'Idelle', 'Imane', 'Argus', 'Epaphroditos', 'Amadeo', 'Draco', 'Dragan', 'Keith', 'Ixchel', 'Mireille', 'Eliezer', 'Ágoston',\n             'Dany', 'Vittore', 'Petru', 'Sabino', 'Rufino', 'Vittorio', 'Keith', 'Sabino', 'Natasa', 'Papillion', 'Edmonda', 'Natasa', 'Isolde',\n             'Lizzy', 'Duff', 'Glenys', 'Spiridon', 'Édouard', 'Dany', 'Draco', 'Ambrogio', 'Faizel', 'Mady', 'Yassin', 'Cain', 'Hagir', 'Iagan',\n             'Stéphanie', 'Cain', 'Vibol', 'Epaphroditos', 'Gaétan', 'Christ', 'Glenys', 'Aïcha', 'Dragan', 'Aïcha', 'Isolde', 'Menashe', 'Shirine',\n             'Aïcha', 'Epaphroditos', 'Aïcha', 'Gawel', 'Chatzkel', 'Kirsa', 'Glenys', 'Jakob', 'Björn', 'Honorata', 'Mélanie', 'Placide', 'Ilies',\n             'Séverin', 'Gergõ', 'Gordon', 'Aimee', 'Louis', 'Idelle', 'Natasa', 'Ambrogio', 'Liesa', 'Kirsa', 'Olavi', 'Gawel', 'Hagir', 'Mady',\n             'Séléna', 'Cain', 'Papillion', 'Mireille', 'Salomão', 'Ilies', 'Petru', 'Epaphroditos', 'Glenys', 'Cain', 'Dragan', 'Cain', 'Epaphroditos',\n             'Mireille', 'Stéphanie', 'Bridger', 'Mireille', 'Séléna', 'Vittore', 'Aimee', 'Spiridon', 'Amadeo', 'Ambrogio', 'Argus', 'Évike', 'Liesa',\n             'Pavao', 'Lizzy', 'Salomão', 'Emmy', 'Évike', 'Gordon', 'Illtyd', 'Dragan', 'Vibol', 'Illtyd', 'Salomão', 'Edmonda', 'Liesa', 'Mady',\n             'Natasa', 'Gawel', 'Papillion', 'Aimee', 'Lujayn', 'Cain', 'Séléna', 'Glenys', 'Keld', 'Faizel', 'Áron', 'Björn', 'Silviu', 'Ambrogio',\n             'Placide', 'Houda', 'Shirine', 'Aïcha', 'Olavi', 'Placide', 'Shayla', 'Barbra', 'Vittore', 'Dragan', 'Satchel', 'Illtyd', 'Louis',\n             'Menashe', 'Spiridon', 'Barbra', 'Évike', 'Iagan', 'Zayneb', 'Argus', 'Papillion', 'Gawel', 'Olavi', 'Emmy', 'Áron', 'Aimee', 'Howell',\n             'Placide', 'Vibol', 'Petru', 'Silviu', 'Cain', 'Mady', 'Epaphroditos', 'Mireille', 'Dany', 'Montserrat', 'Chatzkel', 'Emmy', 'Damhnait',\n             'Ágoston', 'Petru', 'Ziva', 'Dragan', 'Emmy', 'Olavi', 'Séléna', 'Lilas', 'Mady', 'Faizel', 'Papillion', 'Hagir', 'Mireille', 'Chatzkel',\n             'Draco', 'Bridger', 'Dany', 'Faizel', 'Spiridon', 'Chatzkel', 'Shayla', 'Ambrogio', 'Aïcha', 'Faizel', 'Ziva', 'Argus', 'Ramsay',\n             'Chatzkel', 'Zayneb', 'Barbra', 'Idelle', 'Lujayn', 'Spiridon', 'Draco', 'Rufino', 'Damhnait', 'Grwn', 'Jacaline', 'Séléna', 'Dragan',\n             'Petru', 'Grwn', 'Mady', 'Menashe', 'Vittorio', 'Nolann', 'Placide', 'Finn', 'Séléna', 'Placide', 'Vittorio', 'Damhnait', 'Séléna',\n             'Menashe', 'Séléna', 'Idelle', 'Vittorio', 'Mélanie', 'Salomão', 'Nazim', 'Évike', 'Bridger', 'Shayla', 'Christ', 'Jari', 'Mady', 'Petru',\n             'Kirsa', 'Sabino', 'Lizzy', 'Ágoston', 'Draco', 'Montserrat', 'Vittore', 'Édouard', 'Christ', 'Grwn', 'Lalie', 'Vibol', 'Keld', 'Vittore',\n             'Grwn', 'Liesa', 'Draco', 'Séverin', 'Finn', 'Shayla', 'Cloe', 'Pavao', 'Imane', 'Placide', 'Mélanie', 'Shirine', 'Dany', 'Papillion',\n             'Iagan', 'Nolann', 'Barbra', 'Illtyd', 'Hagir', 'Ixchel', 'Christ', 'Ilies', 'Christ', 'Silviu', 'Hagir', 'Silviu', 'Faizel', 'Keld',\n             'Cowal', 'Honorata', 'Iagan', 'Vittore', 'Gaétan', 'Pavao', 'Phuong', 'Ziva', 'Christ', 'Évike', 'Emmy', 'Epaphroditos', 'Gaétan', 'Évike',\n             'Silviu', 'Vibol', 'Edmonda', 'Séléna', 'Mireille', 'Évike', 'Finn', 'Shirine', 'Damhnait', 'Ixchel', 'Nazim', 'Zayneb', 'Silviu',\n             'Spiridon', 'Björn', 'Gordon', 'Bridger', 'Olavi', 'Amadeo', 'Duff', 'Damhnait', 'Draco', 'Ambrogio', 'Howell', 'Dany', 'Ágoston', 'Petru',\n             'Vittore', 'Honorata', 'Imane', 'Christ', 'Édouard', 'Jakob', 'Édouard', 'Björn', 'Iagan', 'Idelle', 'Pavao', 'Illtyd', 'Shayla',\n             'Montserrat', 'Mélanie', 'Gaétan', 'Keld', 'Pavao', 'Spiridon', 'Damhnait', 'Jakob', 'Aïcha', 'Shayla', 'Chatzkel', 'Howell', 'Ixchel',\n             'Jakob', 'Amadeo', 'Mélanie', 'Louis', 'Petru', 'Barbra', 'Iagan', 'Edmonda', 'Eliezer', 'Glenys', 'Lujayn', 'Imane', 'Stéphanie',\n             'Montserrat', 'Simo', 'Cain', 'Silviu', 'Keith', 'Kirsa', 'Idelle', 'Mireille', 'Lizzy', 'Vittore', 'Houda', 'Évike', 'Cain', 'Petru',\n             'Chatzkel', 'Édouard', 'Gergõ', 'Howell', 'Faizel', 'Lalie', 'Sabino', 'Vittorio', 'Cain', 'Jari', 'Epaphroditos', 'Howell', 'Louis',\n             'Évike', 'Jakob', 'Louis', 'Amadeo', 'Dragan', 'Silviu', 'Simo', 'Duff', 'Epaphroditos', 'Lizzy', 'Vibol', 'Dragan', 'Iagan', 'Lalie',\n             'Sabino', 'Aïcha', 'Lizzy', 'Hagir', 'Sabino', 'Ambrogio', 'Lalie', 'Edmonda', 'Menashe', 'Mélanie', 'Vittore', 'Bridger', 'Vibol',\n             'Louis', 'Naheed', 'Amadeo', 'Aïcha', 'Amadeo', 'Natasa', 'Björn', 'Séléna', 'Cameron', 'Dany', 'Gawel', 'Menashe', 'Aimee', 'Salomão',\n             'Natasa', 'Évike', 'Chatzkel', 'Giedrius', 'Placide', 'Áron', 'Olavi', 'Vittorio', 'Isolde', 'Mady', 'Imane', 'Mady', 'Gordon', 'Vibol',\n             'Duff', 'Silviu', 'Cowal', 'Jakob', 'Jakob', 'Olavi', 'Imane', 'Phuong', 'Aimee', 'Lalie', 'Argus', 'Howell', 'Lujayn', 'Shirine', 'Gaétan',\n             'Édouard', 'Argus', 'Edmonda', 'Kirsa', 'Áron', 'Draco', 'Ixchel', 'Illtyd', 'Phuong', 'Barbra', 'Mireille', 'Ambrogio', 'Yassin',\n             'Damhnait', 'Lizzy', 'Illtyd', 'Spiridon', 'Ixchel', 'Liesa', 'Áron', 'Évike', 'Aimee', 'Emmy', 'Cloe', 'Hagir', 'Bridger', 'Duff',\n             'Sabino', 'Teodor', 'Epaphroditos', 'Faizel', 'Faizel', 'Gergõ', 'Iagan', 'Liesa', 'Cloe', 'Ixchel', 'Epaphroditos', 'Vibol', 'Dragan',\n             'Stéphanie', 'Ambrogio', 'Pavao', 'Damhnait', 'Ziva', 'Chatzkel', 'Hagir', 'Cameron', 'Hagir', 'Lilas', 'Lujayn', 'Gaétan', 'Vibol',\n             'Howell', 'Lalie', 'Hagir', 'Olavi', 'Olavi', 'Édouard', 'Duff', 'Illtyd', 'Gawel', 'Imane', 'Honorata', 'Howell', 'Keith', 'Phuong',\n             'Faizel', 'Rufino', 'Chatzkel', 'Gordon', 'Duff', 'Olavi', 'Ixchel', 'Teodor', 'Howell', 'Papillion', 'Epaphroditos', 'Gergõ', 'Cloe',\n             'Glenys', 'Mireille', 'Ágoston', 'Gawel', 'Rufino', 'Aliya', 'Nazim', 'Isolde', 'Shayla', 'Papillion', 'Sabino', 'Barbra', 'Mélanie',\n             'Aimee', 'Cowal', 'Keith', 'Pavao', 'Eliezer', 'Montserrat', 'Honorata', 'Papillion', 'Björn', 'Imane', 'Cain', 'Dany', 'Imane', 'Mélanie',\n             'Christ', 'Dragan', 'Emmy', 'Lalie', 'Papillion', 'Évike', 'Cain', 'Vittorio', 'Jari', 'Montserrat', 'Satchel', 'Évike', 'Honorata', 'Áron',\n             'Kirsa', 'Mireille', 'Cameron', 'Pavao', 'Isolde', 'Petru', 'Cardea', 'Áron', 'Jakob', 'Silviu', 'Cain', 'Lizzy', 'Despoina', 'Mady',\n             'Aliya', 'Christ', 'Olavi', 'Áron', 'Montserrat', 'Shayla', 'Gergõ', 'Jari', 'Spiridon', 'Séléna', 'Lujayn', 'Olavi', 'Lizzy', 'Rufino',\n             'Ixchel', 'Petru', 'Dany', 'Vibol', 'Jakob', 'Ramsay', 'Faizel', 'Yassin', 'Hagir', 'Kirsa', 'Phuong', 'Vittore', 'Glenys', 'Isolde',\n             'Montserrat', 'Édouard', 'Björn', 'Rufino', 'Keith', 'Rufino', 'Grwn', 'Satchel', 'Amadeo', 'Sevan', 'Faizel', 'Finn', 'Silviu', 'Séléna',\n             'Gordon', 'Évike', 'Barbra', 'Duff', 'Glenys', 'Iagan', 'Louis', 'Pavao', 'Mady', 'Mireille', 'Bridger', 'Montserrat', 'Honorata', 'Pavao',\n             'Ixchel', 'Placide', 'Keith', 'Stéphanie', 'Faizel', 'Illtyd', 'Dragan', 'Nazim', 'Satchel', 'Silviu', 'Grwn', 'Mireille', 'Liesa',\n             'Salomão', 'Liesa', 'Petru', 'Cain', 'Salomão', 'Cain', 'Mélanie', 'Jari', 'Sabino', 'Chatzkel', 'Gawel', 'Keith', 'Séverin', 'Barbra',\n             'Áron', 'Iagan', 'Jakob', 'Ambrogio', 'Papillion', 'Damhnait', 'Papillion', 'Gawel', 'Lizzy', 'Aimee', 'Epaphroditos', 'Aïcha', 'Yassin', \n             'Idelle', 'Naheed', 'Liesa', 'Vibol', 'Placide', 'Séléna', 'Aimee', 'Keith', 'Gergõ', 'Lizzy', 'Damhnait', 'Sevan', 'Emmy', 'Papillion',\n             'Mireille', 'Rufino', 'Iagan', 'Silviu', 'Finn', 'Liesa', 'Chatzkel', 'Damhnait', 'Gordon', 'Lujayn', 'Amadeo', 'Évike', 'Griffith', \n             'Phuong', 'Olavi', 'Shirine', 'Duff', 'Rufino', 'Duff', 'Placide', 'Ilies', 'Placide']\n\ntab_commun3=['Juanita', 'Liya', 'Dorotéia', 'Moyra', 'Chania', 'Gratia', 'Talulla', 'Tamika', 'Jagoda', 'Sierra', 'Angela', 'Malika', 'Carola', 'Orpa',\n             'Carla', 'Malika', 'Charla', 'Taha', 'Andreea', 'Liouba', 'Jonna', 'Raza', 'Iwona', 'Piroska', 'Ramakrishna', 'Viveka', 'Bertha', 'Seeta',\n             'Andela', 'Bonita', 'Gazbiyya', 'Keyla', 'Csaba', 'Qiana', 'Lexa', 'Liliana', 'Dunja', 'Lorna', 'Johana', 'Wilfreda', 'Angelika',\n             'Branislava', 'Dalya', 'Twila', 'Camelia', 'Margaretta', 'Harouna', 'Natália', 'Kaarina', 'Sveta', 'Abena', 'Aura', 'Andrea', 'Katherina',\n             'Ghaliya', 'Leola', 'Horatia', 'Nicoleta', 'Maha', 'Nawra', 'Lydia', 'Yosra', 'Levana', 'Marva', 'Amelia', 'Cilla', 'Gazbiyya', 'Luksa',\n             'Khwaja', 'Mafalda', 'Manjusha', 'Pratibha', 'Hylda', 'Ludmila', 'Constancia', 'Veronika', 'Iona', 'Mathilda', 'Leocadia', 'Safiya',\n             'Angela', 'Paloma', 'Elma', 'Mustapha', 'Edyta', 'Ptolema', 'Ghada', 'Hanna', 'Crina', 'Dymphna', 'Cecelia', 'Kobina', 'Atiya', 'Mónica',\n             'Israa', 'Nicoleta', 'Munira', 'Raza', 'Fiachra', 'Kazimiera', 'Derya', 'Gaila', 'Noella', 'Sheba', 'Ekaterina', 'Salha', 'Barbara',\n             'Juanita', 'Ariella', 'Bronislawa', 'Clotilda', 'Moa', 'Idoya', 'Talya', 'Isaia', 'Zahra', 'Tatyana', 'Vina', 'Arda', 'Seeta']\n\ntab_commun4=['Jordon', 'Édouard', 'Alys', 'Deryck', 'Aaliyah', 'Lis', 'Elian', 'Xanthia', 'Gianmarco', \"In'am\", 'Fantine', 'Owen', 'Martyna', 'Modya',\n             'Fulton', 'Quang', 'Feodor', 'Mozes', 'Shakir', 'Shelby', 'Shiloh', 'Shyam', 'Ailbhe', 'Brooke', 'Eliot', 'Riccarda', 'Bellona', 'Cainan',\n             'Kailey', 'Zhou', 'Esther', 'Lorn', 'Aatu', 'Katalin', 'Ari', 'Jimmie', 'Aubin', 'Khorshed', 'Edmundo', 'Harvey', 'Georgiy', 'Tara',\n             'Kerry', 'Teunis', 'Lavra', 'Queenie', 'Giorgia', 'Émilie', 'Monique', 'Nohan', 'Chernobog', 'Efraín', 'Georgina', 'Noah', 'Bartolomé',\n             'Jacob', 'Fulton', 'Miltiades', 'Bram', 'Selig', 'Franz', 'Wieslawa', 'Brandie', 'Spiridon', 'Marina', 'Vincenc', 'Ghislain', 'Shereen',\n             'Publius', 'Till', 'Apostolos', 'Columban', 'Ashton', 'Kean', 'Chelsea', 'Graeme', 'Alphonse', 'Kristel', 'Osheen', 'Wanda', 'Marie-Lou',\n             'Éimhín', 'Absalom', 'Janel', 'Botros', 'Ismat', 'Cecelia', 'Vesna', 'Ham', 'Senan', 'Ama', 'Dearbháil', 'Horus', 'Shamira', 'Aliah',\n             'Gerd', 'Alphonzo', 'Torgeir', 'Galal', 'Rocky', 'Alter', 'Mckayla', 'Juliette', 'Xoán', 'Feichín', 'Jeni', 'Devdas', 'Pascal', 'Leontius',\n             'Yvonne', 'Ladislao', 'Shankar', 'Ceridwen', 'Samir', 'Adriaan', 'Gita', 'Jakov', 'Karamba', 'Iola', 'Quetzalcoatl', 'Hania', 'Taddeo',\n             'Micah', 'Raffaello', 'Columba', 'Jim', 'Katharina', 'Reetta', 'Gittan', 'Nohan', 'Carbry', 'Nakato', 'Inbar', 'Sumiko', 'Becca', 'Erwin',\n             'Nikomachos', 'Valentina', 'Jillie', 'Theunis', 'Cass', 'Liviu', 'Camron', 'Mónica', 'Booker', 'Midori', 'Etzel', 'Reto', 'Arvo', 'Kornél',\n             'Barna', 'Ozan', 'Zarathustra', 'Zilla', 'Josué', 'William', 'Channing', 'Qadir', 'Aravinda', 'Lucile', 'Aglea', 'Bergliot', 'Marius', \n             'Marty', 'Allyson', 'Kasimir', 'Lilavati', 'Robbie', 'Amedeo', 'Marouane', 'Baldassare', 'Moche', 'Philomel', 'Shany', 'Chadwick',\n             'Hermokrates', 'Cyrine', 'Ludger', 'Eufemia', 'Phyliss', 'Justina', 'Lalage', 'Clifton', 'Ilbert', 'Havilah', 'Süleiman', 'Isam', 'Yudel',\n             'Emiliana', 'Priya', 'Brittney', 'Mairéad', 'Akeem', 'Sebastiano', 'Laurentine', 'Zuri', 'Malie', 'Maximus', 'Ila', 'Toby']",
      "metadata": {
        "trusted": true
      },
      "outputs": [],
      "execution_count": 11
    },
    {
      "cell_type": "markdown",
      "source": "Dans la fonction `lecture_reseau`, nous avons décidé de faire un tableau vide du nom de `tab_interactions`, dans lequel on ajoutera les couples de noms du fichier CSV grâce à un autre tableau `tab_temporaire` qui transforme une ligne du fichier en tableau contenant une intéraction, jusqu'à atteindre la fin du fichier. La fonction retourne le tableau `tab_interactions` qui montre les intéractions entre les personnes.",
      "metadata": {}
    },
    {
      "cell_type": "code",
      "source": "def lecture_reseau(path):\n    \"\"\"Cette fonction modélise un tableau d'intéractions à \n    partir d'un chemin vers un fichier CSV ('path') passé en \n    paramètre et le retourne.\n    \n    Argument :\n    path -- chemin d'accès vers un fichier CSV (chaine de caractères)\"\"\"\n    tab_interactions=[]\n    f_in = open(path,'r',encoding='utf-8') #ouverture du fichier CSV\n    raw_li=f_in.readline() #création d'une variable contenant une chaine de caractères qui représente une ligne du fichier CSV\n    while raw_li!=\"\":\n        tab_temporaire=raw_li.strip().split(';') #création d'un tableau contenant une intéraction à partir de la variable 'raw_li'\n        tab_interactions.append(tab_temporaire[0]) #une intéraction se fait entre deux personnes, donc le tableau 'tab_temporaire'\n        tab_interactions.append(tab_temporaire[1]) #ne contient que 2 éléments à chaque fois\n        raw_li=f_in.readline() #remplacement du contenu de la variable par une autre ligne du fichier CSV\n    f_in.close() #fermeture du fichier CSV\n    return tab_interactions\n\n\n\ndef test_lecture_reseau():\n    assert lecture_reseau('files/Communaute1.csv')==tab_commun1\n    assert lecture_reseau('files/Communaute2.csv')==tab_commun2\n    assert lecture_reseau('files/Communaute3.csv')==tab_commun3\n    assert lecture_reseau('files/Communaute4.csv')==tab_commun4\n    assert not lecture_reseau('files/Communaute1.csv')==[]\n    assert not lecture_reseau('files/Communaute2.csv')==[]\n    assert not lecture_reseau('files/Communaute3.csv')==[]\n    assert not lecture_reseau('files/Communaute4.csv')==[]\n    print('Test de la fonction lecture_reseau : ok')\n\ntest_lecture_reseau()\n",
      "metadata": {
        "trusted": true
      },
      "outputs": [],
      "execution_count": null
    },
    {
      "cell_type": "markdown",
      "source": "#### Question  4 :  Données d'un réseau dupliquées dans un fichier\nOn suppose toujours que les données sur un réseau social sont stockées dans un fichier CSV mais certaines lignes du fichier contiennent les mêmes informations.  \n\n**NB** : Quatre fichiers CSV de ce type sont fournis dans le répertoire `filesbis/`, il s'agit des fichiers`Communaute1bis.csv`, `Communaute2bis.csv`,`Communaute3bis.csv` et `Communaute4bis.csv`. \nIl est recommandé d'en fabriquer d'autres. \n\n- Ecrire une fonction `lecture_reseau_bis(path)` prenant en paramètre un chemin vers un tel fichier CSV et retournant un tableau modélisant les interactions entre les personnes du fichier en éliminant les répétitions.",
      "metadata": {
        "deletable": false,
        "editable": false,
        "run_control": {
          "frozen": true
        }
      }
    },
    {
      "cell_type": "code",
      "source": "tab_commun_bis1=['Giedrius', 'Mady', 'Kirsa', 'Vittore', 'Barbra', 'Faizel', 'Vittorio', 'Vittore', 'Louis', 'Placide', 'Vittorio', 'Barbra', 'Cloe',\n                 'Björn', 'Vittore', 'Barbra', 'Mady', 'Rufino', 'Cloe', 'Vittorio', 'Vittorio', 'Placide', 'Olavi', 'Rufino', 'Vittore', 'Cloe',\n                 'Teodor', 'Cloe', 'Louis', 'Cloe', 'Idelle', 'Mady', 'Illtyd', 'Giedrius', 'Teodor', 'Olavi', 'Vittore', 'Mady', 'Rufino', 'Giedrius',\n                 'Louis', 'Vittorio', 'Giedrius', 'Glenys', 'Björn', 'Olavi', 'Faizel', 'Placide', 'Rufino', 'Illtyd', 'Kirsa', 'Vittorio', 'Mady',\n                 'Placide', 'Illtyd', 'Olavi', 'Cloe', 'Mady', 'Rufino', 'Vittorio', 'Placide', 'Rufino', 'Rufino', 'Teodor', 'Placide', 'Jakob',\n                 'Barbra', 'Kirsa', 'Idelle', 'Cloe', 'Rufino', 'Faizel', 'Rufino', 'Louis', 'Vittorio', 'Olavi', 'Vittorio', 'Mady', 'Glenys', 'Cloe',\n                 'Björn', 'Idelle', 'Mady', 'Björn', 'Louis', 'Björn', 'Olavi', 'Barbra', 'Björn', 'Giedrius', 'Marwa', 'Idelle', 'Placide', 'Olavi',\n                 'Cain', 'Vittorio', 'Jakob', 'Kirsa', 'Barbra', 'Marwa', 'Idelle', 'Illtyd', 'Louis', 'Giedrius', 'Mady', 'Barbra', 'Barbra', 'Rufino',\n                 'Cloe', 'Barbra', 'Rufino', 'Björn', 'Björn', 'Faizel', 'Vittore', 'Björn', 'Björn', 'Teodor', 'Teodor', 'Mady', 'Faizel', 'Olavi',\n                 'Barbra', 'Louis', 'Giedrius', 'Vittorio', 'Placide', 'Cain', 'Vittore', 'Louis', 'Mady', 'Jakob', 'Placide', 'Cloe', 'Olavi', 'Louis']\n\ntab_commun_bis2=['Draco', 'Epaphroditos', 'Christ', 'Ilies', 'Aimee', 'Howell', 'Vittore', 'Édouard', 'Mady', 'Grwn', 'Séléna', 'Marwa', 'Chatzkel',\n                 'Giedrius', 'Placide', 'Shayla', 'Mireille', 'Hagir', 'Natasa', 'Idelle', 'Emmy', 'Dragan', 'Honorata', 'Pavao', 'Pavao', 'Cameron',\n                 'Cloe', 'Liesa', 'Bridger', 'Duff', 'Séléna', 'Placide', 'Ixchel', 'Teodor', 'Mady', 'Natasa', 'Petru', 'Ziva', 'Iagan', 'Silviu',\n                 'Dany', 'Mady', 'Vittore', 'Björn', 'Áron', 'Honorata', 'Björn', 'Gergõ', 'Faizel', 'Spiridon', 'Liesa', 'Salomão', 'Christ',\n                 'Édouard', 'Shayla', 'Isolde', 'Idelle', 'Keith', 'Gordon', 'Vibol', 'Cain', 'Lizzy', 'Vibol', 'Gaétan', 'Glenys', 'Gergõ', 'Amadeo',\n                 'Ambrogio', 'Papillion', 'Argus', 'Simo', 'Silviu', 'Placide', 'Mélanie', 'Placide', 'Áron', 'Vibol', 'Christ', 'Keith', 'Dragan',\n                 'Pavao', 'Vittore', 'Glenys', 'Amadeo', 'Illtyd', 'Grwn', 'Séléna', 'Damhnait', 'Edmonda', 'Cowal', 'Vibol', 'Lalie', 'Houda', 'Évike',\n                 'Glenys', 'Cloe', 'Shayla', 'Lizzy', 'Dragan', 'Amadeo', 'Gordon', 'Illtyd', 'Ixchel', 'Shayla', 'Sabino', 'Vittorio', 'Keith',\n                 'Naheed', 'Imane', 'Placide', 'Vibol', 'Placide', 'Phuong', 'Griffith', 'Grwn', 'Damhnait', 'Grwn', 'Duff', 'Aimee', 'Salomão',\n                 'Papillion', 'Damhnait', 'Mélanie', 'Montserrat', 'Lujayn', 'Séléna', 'Gawel', 'Draco', 'Imane', 'Aimee', 'Ambrogio', 'Gaétan',\n                 'Illtyd', 'Salomão', 'Phuong', 'Vittorio', 'Ambrogio', 'Aïcha', 'Papillion', 'Kirsa', 'Salomão', 'Lalie', 'Séléna', 'Gordon', 'Idelle',\n                 'Imane', 'Cain', 'Dany', 'Christ', 'Vittore', 'Aimee', 'Louis', 'Séléna', 'Glenys', 'Damhnait', 'Vittore', 'Emmy', 'Aimee', 'Barbra',\n                 'Áron', 'Naheed', 'Idelle', 'Duff', 'Barbra', 'Barbra', 'Idelle', 'Argus', 'Ramsay', 'Jakob', 'Iagan', 'Cameron', 'Mélanie', 'Vibol',\n                 'Cain', 'Cain', 'Petru', 'Séléna', 'Cain', 'Sabino', 'Lalie', 'Cain', 'Jari', 'Honorata', 'Aimee', 'Nazim', 'Aliya', 'Papillion', \n                 'Dany', 'Keld', 'Jacaline', 'Jakob', 'Cowal', 'Mélanie', 'Barbra', 'Sabino', 'Edmonda', 'Dragan', 'Iagan', 'Áron', 'Faizel', 'Natasa',\n                 'Amadeo', 'Björn', 'Dany', 'Silviu', 'Duff', 'Áron', 'Cardea', 'Gergõ', 'Lizzy', 'Vittorio', 'Jakob', 'Illtyd', 'Barbra', 'Grwn',\n                 'Björn', 'Satchel', 'Dragan', 'Honorata', 'Mireille', 'Jari', 'Montserrat', 'Papillion', 'Natasa', 'Damhnait', 'Lizzy', 'Olavi', 'Duff', 'Natasa',\n                 'Barbra', 'Aïcha', 'Shayla', 'Petru', 'Ambrogio']\n\ntab_commun_bis3=['Alaina', 'Nastya', 'Luksa', 'Jumana', 'Hohepa', 'Anya', 'Breana', 'Inmaculada', 'Giuseppina', 'Adina', 'Gerda', 'Constantia', 'Asma',\n                 'Alaina', 'Ethna', 'Yara', 'Inaya', 'Yardena', 'Dada', 'Petrona', 'Orpa', 'Hedda', 'Stanislawa', 'Waheeda', 'Luminita', 'Chandra',\n                 'Cassia', 'Rodya', 'Elnora', 'Margarida', 'Nea', 'Radha', 'Maja', 'Vasya', 'Ola', 'Gitta', 'Cressida', 'Ethna', 'Dominga', 'Hedda',\n                 'Katia', 'Etelka', 'Chania', 'Darja', 'Elvina', 'Dariea', 'Marva', 'Marya', 'Leda', 'Cecelia', 'Arda', 'Yardena', 'Minna', 'Vincenza',\n                 'Jerusha', 'Luminita', 'Akilina', 'Gracja', 'Vladimira', 'Atiya', 'Peta', 'Yuna', 'Sheba', 'Sybilla', 'Jacinta', 'Aksinya', 'Motya',\n                 'Elisheba', 'Alberta', 'Concha', 'Bojana', 'Vasya', 'Juha', 'Johana', 'Lydia', 'Edwena', 'Ivanka', 'Aminata', 'Marajha', 'Jathibiyya',\n                 'Veronika', 'Tova', 'Zelma', 'Bojana', 'Uma', 'Nanaea', 'Karina', 'Dunja', 'Ikaia', 'Maritza', 'Zdenka', 'Giovannetta', 'Zusa',\n                 'Shaïna', 'Angelika', 'Cecilija', 'Waheeda', 'Pierina', 'Idoya', 'Alycia', 'Petrona', 'Foka', 'Jowita', 'Durga', 'Perdita', 'Kenta',\n                 'Stela', 'Anja', 'Jacinta', 'Nala', 'Giovannetta', 'Mustapha', 'Carina', 'Eulia', 'Miranda', 'Gioconda', 'Ramakrishna', 'Viveka',\n                 'Enora', 'Una', 'Gioconda', 'Lana', 'Lydia', 'Georgina', 'Sera', 'Sharma', 'Radomira', 'Maquinna', 'Magnolia', 'Gaia', 'Theresa',\n                 'Reda', 'Paulina', 'Gbemisola', 'Friðrika', 'Yosra', 'Rajendra', 'Elisheba', 'Valora', 'Odelia']\n\ntab_commun_bis4=['Dionysus', 'Samy', 'Ermentraud', 'Leda', 'Liesl', 'Mathúin', 'Shireen', 'Elen', 'Priya', 'Sabrina', 'Trini', 'Bjorne', 'Adriano',\n                 'Donal', 'Przemyslaw', 'Merita', 'Menachem', 'Antigone', 'Jawdat', 'Kathy', 'Lexine', 'Briscoe', 'Corbin', 'Kristjana', 'Alice',\n                 'Abimael', 'Lydie', 'Zakiyya', 'Myrddin', 'Fiorella', 'Andrina', 'Éimhín', 'Chin', 'Everild', 'Mamoudou', 'Adelheid', 'Hal', 'Miya',\n                 'Asa', 'Traherne', 'Marsha', 'Ikraam', 'Ríona', 'Aulus', 'Jacinda', 'Håvard', 'Bluma', 'Jordaan', 'Antonin', 'Eidel', 'Marielle',\n                 'Adjoa', 'Anneli', 'Renae', 'Jalmari', 'Gaspard', 'Arduino', 'Jerri', 'Lóránd', 'Harun', 'Breanna', 'Elina', 'Bekki', 'Shan', 'Asim',\n                 'Ottila', 'Gay', 'Issy', 'Em', 'Iúile', 'Rickie', 'Flavio', 'Johnathon', 'Joleen', 'Jairus', 'Syrine', 'Ossia', 'Lupe', 'Taïs',\n                 'Neville', 'Bartosz', 'Freddy', 'Wilburn', 'Salamon', 'Hersh', 'Ashlyn', 'Bartolomeo', 'Ríoghnach', 'Amaël', 'Elea', 'Leto', 'Guðrún',\n                 'Apolline', 'Yutke', 'Rabbie', 'Qadir', 'Menuha', 'Wenceslas', 'Valerian', 'Ing', 'Glenda', 'Mariamne', 'Einrí', 'Dorian', 'Houda',\n                 'Petya', 'Manya', 'Tadeusz', 'Sita', 'Ansel', 'Éibhear', 'Sandie', 'Fionnghuala', 'Sevastian', 'Samoyla', 'Jasper', 'Jareth', 'Andreu',\n                 'Wayne', 'Séafra', 'Neriah', 'Meliora', 'Antwan', 'Nayeli', 'Raymundo', 'Muadhnait', 'Ahuva', 'Odo', 'Glanville', 'Clelie', 'Arcadia',\n                 'Enitan', 'Oliver', 'Marine', 'Lavonne', 'Albrecht', 'Kyung-Soon', 'Sadhbh', 'Dwayne', 'Fedya', 'Orah', 'Venyamin', 'Christelle',\n                 'Marcelline', 'Hiawatha', 'Hùng', 'Brahma', 'Gratian', 'Howell', 'Hilaire', 'Ekwueme', 'Jochim', 'Éibhear', 'Linnie', 'Niklas',\n                 'Murali', 'Flip', 'Izabela', 'Bronwyn', 'Maureen', 'Candelas', 'Beowulf', 'Nunziatina', 'Hari', 'Safa', 'Kade', 'Bárbara', 'Cissy',\n                 'Yngve', 'Milburn', 'Fulgenzio', 'Joandra', 'Ochieng', 'Donata', 'Svyatopolk', 'Serafima', 'Kazimeras', 'Toscane', 'Lorcán', 'Azariah',\n                 'Perry', 'Rawane', 'Leopold', 'Jahzeel', 'Lexy', 'Colton', 'Pavel', 'Fravardin', 'Raymundo', 'Paget', 'Boleslaw', 'Eliahou', 'Kathleen',\n                 'Ruuben', 'Golda', 'Romola', 'Myra', 'Gorden', 'Elnora', 'Julyan']",
      "metadata": {
        "trusted": true
      },
      "outputs": [],
      "execution_count": 12
    },
    {
      "cell_type": "markdown",
      "source": "Pour la fonction `lecture_reseau_bis`, nous avons décidé d'écrire une fonction `verification` pour vérifier s'il y a des répétitions dans le tableau `tab_interactions` (construit en appelant la fonction `lecture_reseau`). Si le couple de noms d'indice i et i+1 n'est pas présent dans le tableau `tab_final_interactions`, on l'y ajoute. La fonction retourne `tab_final_interactions` quand tout le tableau `tab_interactions` a été parcouru.",
      "metadata": {}
    },
    {
      "cell_type": "code",
      "source": "def verification(tab_interactions,nom1,nom2):\n    \"\"\"Cette fonction vérifie qu'un couple de noms ('nom1' et 'nom2')\n    représentant une intéraction n'est pas présent dans \n    le tableau d'intéractions ('tab_interactions').\n    Cette fonction retourne True si l'intéraction n'est pas présente\n    et False si c'est le cas.\n    \n    Arguments :\n    tab_interactions -- tableau d'intéractions (liste)\n    nom1 -- première personne d'une intéraction entre deux personnes (chaine de caractères)\n    nom2 -- deuxième personne d'une intéraction entre deux personnes (chaine de caractères)\"\"\"\n    i=0\n    while i<len(tab_interactions):\n        if nom1==tab_interactions[i] and nom2==tab_interactions[i+1]: \n        #vérifie si le nom à l'indice i dans 'tab_interactions' est le même que le 'nom1' passé en paramètre,\n        #et si le nom à l'indice i+1 (donc celui qui suit) est le même que le 'nom2' passé en paramètre\n            return False\n        elif nom1==tab_interactions[i+1] and nom2==tab_interactions[i]:\n        #même chose que la condition précédente, mais dans le sens inverse (si le nom en indice i est le même\n        #que le 'nom2', et si le nom en indice i+1 est le même que le 'nom2') car les intéractions fonctionnent \n        #dans les deux sens\n            return False\n        i+=2 #le tableau d'intéractions ('tab_interactions') est composé de couples de noms, c'est pourquoi on ajoute 2 à l'indice au lieu de 1\n    return True\n\n\ndef lecture_reseau_bis(path):\n    \"\"\"Cette fonction modélise un tableau d'intéractions à \n    partir d'un chemin vers un fichier CSV ('path') passé en \n    paramètre en éliminant les répétitions d'intéractions.\n    Cette fonction retourne le tableau modélisé.\n    \n    Argument :\n    path -- chemin d'accès vers un fichier CSV (chaine de caractères)\"\"\"\n    tab_interactions=lecture_reseau(path) #création d'un tableau d'intéractions contenant des répétitions à partir de la fonction 'lecture_reseau'\n    tab_final_interactions=[] #création d'un tableau vide que l'on remplira au fur et à mesure\n    i=0\n    while i<len(tab_interactions):\n        if verification(tab_final_interactions,tab_interactions[i],tab_interactions[i+1]): \n        #vérifie si l'intéraction entre le nom à l'indice i et celui à l'indice i+1 n'est pas \n        #déjà présent dans le tableau 'tab_final_interactions'\n            tab_final_interactions.append(tab_interactions[i])\n            tab_final_interactions.append(tab_interactions[i+1])\n        i+=2 #le tableau d'intéractions ('tab_interactions') est composé de couples de noms, c'est pourquoi on ajoute 2 à l'indice au lieu de 1\n    return tab_final_interactions\n\n\n\ndef test_verification():\n    assert verification(['Jordon', 'Édouard', 'Alys', 'Deryck', 'Aaliyah', 'Lis'], 'Elian', 'Xanthia')\n    assert verification(['Miltiades', 'Bram', 'Selig', 'Franz', 'Wieslawa', 'Brandie', 'Spiridon', 'Marina'], 'Vincenc', 'Ghislain')\n    assert verification(['Damhnait', 'Ziva', 'Chatzkel', 'Hagir', 'Cameron', 'Hagir', 'Lilas', 'Lujayn', 'Gaétan', 'Vibol'], 'Lalie', 'Hagir')\n    assert verification(['Salomão', 'Nazim', 'Évike', 'Bridger', 'Shayla', 'Christ', 'Jari', 'Mady', 'Petru', 'Kirsa', 'Sabino',\n                         'Draco', 'Montserrat', 'Vittore'],'Lizzy', 'Ágoston')\n    assert not verification(['Jordon', 'Édouard', 'Alys', 'Deryck', 'Aaliyah', 'Lis', 'Elian', 'Xanthia'],'Elian', 'Xanthia')\n    assert not verification(['Vincenc', 'Ghislain', 'Miltiades', 'Bram', 'Selig', 'Franz', 'Wieslawa', 'Brandie', 'Spiridon', 'Marina'], 'Vincenc',\n                            'Ghislain')\n    assert not verification([ 'Damhnait', 'Ziva', 'Chatzkel', 'Hagir', 'Cameron', 'Hagir','Lalie', 'Hagir', 'Lilas', 'Lujayn', 'Gaétan', 'Vibol'],\n                             'Lalie', 'Hagir')\n    assert not verification(['Salomão', 'Nazim', 'Évike', 'Bridger', 'Shayla', 'Christ', 'Jari', 'Mady', 'Petru', 'Kirsa', 'Sabino', 'Ágoston', 'Lizzy',\n                             'Draco', 'Montserrat', 'Vittore'],'Lizzy', 'Ágoston')\n    print('Test de la fonction verification : ok')\n\n\ndef test_lecture_reseau_bis():\n    assert lecture_reseau_bis('filesbis/Communaute1bis.csv')==tab_commun_bis1\n    assert lecture_reseau_bis('filesbis/Communaute2bis.csv')==tab_commun_bis2\n    assert lecture_reseau_bis('filesbis/Communaute3bis.csv')==tab_commun_bis3\n    assert lecture_reseau_bis('filesbis/Communaute4bis.csv')==tab_commun_bis4\n    assert not lecture_reseau_bis('filesbis/Communaute1bis.csv')==[]\n    assert not lecture_reseau_bis('filesbis/Communaute2bis.csv')==[]\n    assert not lecture_reseau_bis('filesbis/Communaute3bis.csv')==[]\n    assert not lecture_reseau_bis('filesbis/Communaute4bis.csv')==[]\n    print('Test de la fonction lecture_reseau_bis : ok')\n\ntest_lecture_reseau_bis()",
      "metadata": {
        "trusted": true
      },
      "outputs": [
        {
          "name": "stdout",
          "text": "Test de la fonction lecture_reseau_bis : ok\n",
          "output_type": "stream"
        }
      ],
      "execution_count": 27
    },
    {
      "cell_type": "markdown",
      "source": "#### Question 5 : Modélisation d'un réseau par un dictionnaire\nOn préfère pour la suite, utiliser une modélisation du réseau social par un dictionnaire dont les clés sont les prénoms des personnes du réseau et la valeur associé à une clé est le tableau des amis de la personne indiquée par la clé.\n\n- A partir d'un tableau `amis` modélisant les interactions entre personnes d'un réseau, écrire une fonction `dico_reseau(amis)` qui retourne un dictionnaire dont les clés sont les prénoms des membres du réseau et les valeurs le tableau de leurs amis.",
      "metadata": {
        "deletable": false,
        "editable": false,
        "run_control": {
          "frozen": true
        }
      }
    },
    {
      "cell_type": "markdown",
      "source": "Pour la fonction `dico_reseau`, nous avons tout d'abord initié un dictionnaire vide `dico_interactions`. Puis, dans une boucle, un tableau `tab_amis` est créé qui contiendra les amis d'indice j (deuxième boucle) d'une personne d'indice i (première boucle). A la fin de la deuxième boucle, on ajoute au dictionnaire `dico_interactions` le couple (clé,valeur) composé du nom à l'indice i et de `tab_amis`. Ce dernier est réinitialisé à chaque tour de la première boucle. La fonction retourne le dictionnaire `dico_interactions` quand la première boucle a parcouru tout le tableau `amis`.",
      "metadata": {}
    },
    {
      "cell_type": "code",
      "source": "def dico_reseau(amis):\n    \"\"\"Cette fonction crée un dictionnaire modélisant un réseau d'amis \n    dont les clés sont les membres du réseau et les valeurs le tableau de\n    leurs amis à partir d'un tableau 'amis'.\n    \n    Argument :\n    amis -- tableau d'intéractions (liste)\"\"\"\n    dico_interactions={}\n    i=0\n    while i<len(amis):\n        tab_amis=[] #création d'un tableau vide que l'on remplira au fur et à mesure des noms des amis de la personne en indice i dans 'amis'\n        j=0 #définition d'un deuxième indice qui parcourera à son tour tout le tableau 'amis'\n        while j<len(amis):\n            if amis[i]==amis[j]: #vérifie si le nom en indice i est le même que celui en indice j\n                if j%2==0: #vérifie si l'indice est pair pour savoir si le nom est le premier du couple ou le deuxième\n                    tab_amis.append(amis[j+1])\n                else:\n                    tab_amis.append(amis[j-1])\n            j+=1\n        dico_interactions[amis[i]]=tab_amis #ajout du couple clé,valeur de la personne en indice i et de son tableau d'amis\n        i+=1\n    return dico_interactions\n\n\n\ndef test_dico_reseau():\n    assert dico_reseau(p_amis1)=={'Muriel': ['Yasmine', 'Joel'], 'Yasmine': ['Muriel', 'Joel', 'Thomas'], \n                                  'Joel': ['Muriel', 'Yasmine', 'Nassim', 'Andrea', 'Ali'], 'Thomas': ['Yasmine', 'Daria', 'Carole'], \n                                  'Nassim': ['Joel', 'Andrea', 'Ali'], 'Andrea': ['Joel', 'Nassim', 'Ali', 'Valentin'], \n                                  'Ali': ['Joel', 'Nassim', 'Andrea'], 'Daria': ['Thomas'], 'Carole': ['Thomas'], 'Thierry': ['Axel', 'Leo'], \n                                  'Axel': ['Thierry', 'Leo'], 'Leo': ['Thierry', 'Axel', 'Valentin'], 'Valentin': ['Leo', 'Andrea']}\n    assert dico_reseau(p_amis2)=={'Muriel': ['Yasmine', 'Joel'], 'Yasmine': ['Muriel', 'Joel', 'Thomas'], \n                                  'Joel': ['Muriel', 'Yasmine', 'Nassim', 'Andrea', 'Ali'], 'Thomas': ['Yasmine'], 'Nassim': ['Joel'], \n                                  'Andrea': ['Joel'], 'Ali': ['Joel']}\n    assert dico_reseau(p_amis3)=={'Andrea': ['Ali'], 'Ali': ['Andrea'], 'Thomas': ['Daria', 'Carole'], 'Daria': ['Thomas'], 'Carole': ['Thomas'], \n                                  'Thierry': ['Axel', 'Leo'], 'Axel': ['Thierry', 'Leo'], 'Leo': ['Thierry', 'Axel']}\n    assert not dico_reseau(p_amis1)=={}\n    assert not dico_reseau(p_amis2)=={}\n    assert not dico_reseau(p_amis3)=={}\n    print('Test de la fonction dico_reseau : ok')\n\ntest_dico_reseau()\n",
      "metadata": {
        "trusted": true
      },
      "outputs": [
        {
          "name": "stdout",
          "text": "Test de la fonction dico_reseau : ok\n",
          "output_type": "stream"
        }
      ],
      "execution_count": 16
    },
    {
      "cell_type": "markdown",
      "source": "#### Question 6 : Nombre d'amis des personnes les plus populaires\n\n- A partir d'un dictionnaire `dico_reseau` modélisant les interactions dans un réseau d'amis, écrire une fonction `nb_amis_plus_pop (dico_reseau)` qui retourne le nombre d'amis des personnes les plus populaires du réseau.",
      "metadata": {}
    },
    {
      "cell_type": "code",
      "source": "dico_reseau1={'Muriel': ['Yasmine', 'Joel'], 'Yasmine': ['Muriel', 'Joel', 'Thomas'], \n              'Joel': ['Muriel', 'Yasmine', 'Nassim', 'Andrea', 'Ali'], 'Thomas': ['Yasmine', 'Daria', 'Carole'], \n              'Nassim': ['Joel', 'Andrea', 'Ali'], 'Andrea': ['Joel', 'Nassim', 'Ali', 'Valentin'], \n              'Ali': ['Joel', 'Nassim', 'Andrea'], 'Daria': ['Thomas'], 'Carole': ['Thomas'], 'Thierry': ['Axel', 'Leo'], \n              'Axel': ['Thierry', 'Leo'], 'Leo': ['Thierry', 'Axel', 'Valentin'], 'Valentin': ['Leo', 'Andrea']}\n\ndico_reseau2={'Muriel': ['Yasmine', 'Joel'], 'Yasmine': ['Muriel', 'Joel', 'Thomas'], 'Thomas': ['Yasmine'], 'Nassim': ['Joel'], \n              'Andrea': ['Joel'], 'Ali': ['Joel'],'Leo': ['Thierry', 'Axel', 'Valentin']}\n\ndico_reseau3={'Andrea': ['Ali'], 'Ali': ['Andrea'], 'Thomas': ['Daria', 'Carole'], 'Daria': ['Thomas'], 'Carole': ['Thomas'], \n              'Thierry': ['Axel', 'Leo'], 'Axel': ['Thierry', 'Leo'], 'Leo': ['Thierry', 'Axel']}",
      "metadata": {
        "trusted": true
      },
      "outputs": [],
      "execution_count": 17
    },
    {
      "cell_type": "markdown",
      "source": "Pour la fonction `nb_amis_plus_pop`, nous avons décidé de créer un tableau `tab_amis` qui contient toutes les valeurs d'un dictionnaire passé en paramètre et une variable `nb_amis` qui contiendra le nombre de personnes dans le premier sous-tableau de `tab_amis`. Par la suite, on fait une boucle qui vérifie quel sous-tableau est le plus grand en comparant la longueur du tableau d'indice i et `nb_amis`, et en remplaçant la valeur de cette variable si le tableau d'indice i est plus grand. Lorsque la boucle est fini, la fonction renvoie la variable `nb_amis`.",
      "metadata": {}
    },
    {
      "cell_type": "code",
      "source": "def nb_amis_plus_pop(dico_reseau):\n    \"\"\"Cette fonction retourne le nombre d'amis des\n    personnes les plus populaires d'un dictionnaire de\n    réseau d'amis passé en paramètre.\n    \n    Argument :\n    dico_reseau -- dictionnaire de réseau d'amis (dictionnaire)\"\"\"\n    tab_amis=list(dico_reseau.values()) #création d'un tableau contenant toutes les valeurs de 'dico_reseau'\n    nb_amis=len(tab_amis[0]) #création d'une variable contenant le nombre d'amis du premier sous-tableau de 'tab_amis'\n    i=1\n    while i < len(tab_amis):\n        if len(tab_amis[i])>nb_amis: \n        #vérifie que le nombre d'amis du sous-tableau de 'tab_amis' d'indice i est plus grand que celui de la variable 'nb_amis'\n            nb_amis=len(tab_amis[i])\n        i+=1\n    return nb_amis\n\n\n\ndef test_nb_amis_plus_pop():\n    assert nb_amis_plus_pop(dico_reseau1)==5\n    assert nb_amis_plus_pop(dico_reseau2)==3\n    assert nb_amis_plus_pop(dico_reseau3)==2\n    assert not nb_amis_plus_pop(dico_reseau1)==-1\n    assert not nb_amis_plus_pop(dico_reseau2)==-1\n    assert not nb_amis_plus_pop(dico_reseau3)==-1\n    print('Test de la fonction nb_amis_plus_pop : ok')\n\ntest_nb_amis_plus_pop()",
      "metadata": {
        "trusted": true
      },
      "outputs": [
        {
          "name": "stdout",
          "text": "Test de la fonction nb_amis_plus_pop : ok\n",
          "output_type": "stream"
        }
      ],
      "execution_count": 19
    },
    {
      "cell_type": "markdown",
      "source": "#### Question 7 : Personnes les plus populaires\n\n- A partir d'un dictionnaire `dico_reseau` modélisant les interactions dans un réseau d'amis, écrire une fonction `les_plus_pop (dico_reseau)` qui retourne un tableau contenant les prénoms de toutes les personnes les plus populaires du réseau.",
      "metadata": {
        "deletable": false,
        "editable": false,
        "run_control": {
          "frozen": true
        }
      }
    },
    {
      "cell_type": "markdown",
      "source": "Pour la fonction `les_plus_pop`, nous avons décidé de créer un tableau `tab_amis` qui contient toutes les clés d'un dictionnaire passé en paramètre et une variable `nb_amis_les_plus_pop` qui contient le nombre d'amis des personnes les plus populaire du réseau à partir de la fonction `nb_amis_plus_pop`. On créé également un tableau vide `tab_les_plus_pop` qui contiendra les noms des personnes les plus populaires en vérifiant si la longueur de la valeur correspondant à la clé d'indice i du dictionnaire est égale à la variable `nb_amis_les_plus_pop` via une boucle. Lorsque la boucle est fini, la fonction renvoie la variable `tab_les_plus_pop`.",
      "metadata": {}
    },
    {
      "cell_type": "code",
      "source": "def les_plus_pop(dico_reseau):\n    \"\"\"Cette fonction retourne un tableau contenant les \n    prénoms des personnes les plus populaires d'un dictinnaire \n    de réseau d'amis.\n    \n    Argument :\n    dico_reseau -- dictionnaire de réseau d'amis (dictionnaire)\"\"\"\n    tab_amis=list(dico_reseau.keys()) #création d'un tableau contenant toutes les clés du dictionnaire 'dico_reseau'\n    nb_amis_les_plus_pop=nb_amis_plus_pop(dico_reseau)\n    #création d'une variable contenant le nombre d'amis des plus populaires à partir de la fonction 'nb_amis_plus_pop'\n    tab_les_plus_pop=[] #création d'un tableau vide que l'on remplira au fur et à mesure\n    i=1\n    while i < len(tab_amis):\n        if len(dico_reseau[tab_amis[i]])==nb_amis_les_plus_pop: \n        #vérifie que le nombre d'amis de la clé d'indice i de 'tab_amis' est la même que celui de la variable 'nb_amis_les_plus_pop'\n            tab_les_plus_pop.append(tab_amis[i])\n        i+=1\n    return tab_les_plus_pop\n\n\n\ndef test_les_plus_pop():\n    assert les_plus_pop(dico_reseau1)==['Joel']\n    assert les_plus_pop(dico_reseau2)==['Yasmine','Leo']\n    assert les_plus_pop(dico_reseau3)==['Thomas','Thierry','Axel','Leo']\n    assert not les_plus_pop(dico_reseau1)==[]\n    assert not les_plus_pop(dico_reseau2)==[]\n    assert not les_plus_pop(dico_reseau3)==[]\n    print('Test de la fonction les_plus_pop : ok')\n\ntest_les_plus_pop()\n",
      "metadata": {
        "trusted": true
      },
      "outputs": [
        {
          "name": "stdout",
          "text": "Test de la fonction les_plus_pop : ok\n",
          "output_type": "stream"
        }
      ],
      "execution_count": 21
    }
  ]
}
