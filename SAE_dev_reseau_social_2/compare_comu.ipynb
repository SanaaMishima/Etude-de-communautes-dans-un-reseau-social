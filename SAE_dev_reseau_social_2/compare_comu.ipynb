{
  "metadata": {
    "kernelspec": {
      "name": "python",
      "display_name": "Python (Pyodide)",
      "language": "python"
    },
    "language_info": {
      "codemirror_mode": {
        "name": "python",
        "version": 3
      },
      "file_extension": ".py",
      "mimetype": "text/x-python",
      "name": "python",
      "nbconvert_exporter": "python",
      "pygments_lexer": "ipython3",
      "version": "3.8"
    }
  },
  "nbformat_minor": 5,
  "nbformat": 4,
  "cells": [
    {
      "id": "611968d2-76d6-4959-bd19-4922e342d20f",
      "cell_type": "markdown",
      "source": "# Comparaison théorique et pratique de la SAE 102",
      "metadata": {}
    },
    {
      "id": "5cb461cd-12e9-4394-bef2-2aedb72f7169",
      "cell_type": "markdown",
      "source": "### Question 2",
      "metadata": {}
    },
    {
      "id": "fde42fa7-3d89-4b73-ab4b-d420c9075b09",
      "cell_type": "markdown",
      "source": "La fonction \"cree_reseau\" possède 1 comparaison, 1 additions, 2 affectations donc la complexité correspond à 4n + 2\nLa fonction \"dico_reseau\" possède 1 comparaison, 1 additions, 2 affectations donc la modularité correspond à 4n + 3",
      "metadata": {}
    },
    {
      "id": "6de13659-13a3-4193-95a5-1fed28a81c45",
      "cell_type": "markdown",
      "source": "En théorie on peut ce dire que la fonction \"cree_reseau\" prend moins de temps (4n + 2 < 4n + 3) que la fonction \"dico_reseau\". \nMaintenant nous allons voir ci-dessous la partie pratique, si effectivement \"cree_reseau\" est le plus efficce. ",
      "metadata": {}
    },
    {
      "id": "48b6ca83-112d-4622-b8f4-5e3d76048834",
      "cell_type": "code",
      "source": "from time import * # import de la bibliothèque time\n\ntic = time()       # top départ\n\n########### Début du traitement à chronométer ###########\n\ndef cree_reseau(tab):\n    dico={}\n    i=0\n    while i<len(tab):\n        if tab[i][0] not in dico:\n            dico[tab[i][0]]=[]\n        if tab[i][1] not in dico:\n            dico[tab[i][1]]=[]\n        if tab[i][1] not in dico[tab[i][0]]:\n            dico[tab[i][0]].append(tab[i][1])\n        if tab[i][0] not in dico[tab[i][1]]:\n            dico[tab[i][1]].append(tab[i][0])\n        i+=1\n    return(dico)\n    \n############ Fin du traitement à chronométer ############\n\ntac = time()           # arrêt du chronomètre\n\nprint(round(1000*(tac-tic),2),\" ms\")     # on convertit en ms et on arrondit au centième",
      "metadata": {
        "trusted": true
      },
      "outputs": [
        {
          "name": "stdout",
          "output_type": "stream",
          "text": "2.0  ms\n"
        }
      ],
      "execution_count": 1
    },
    {
      "id": "9b0a5213-6e4b-4e7c-9c56-79cf9c579215",
      "cell_type": "code",
      "source": "############ Fonctions nécéssaire pour \"dico_reseau\" ###########\n\ndef personnes(amis):\n    \"\"\"\n    retourne le tableau des différentes personnes du tableau amis\n    \"\"\"\n    personnes=[]\n    i=0\n    while i<len(amis):\n        if amis[i] not in personnes:\n            personnes.append(amis[i])\n        i+=1\n    return personnes\n\ndef ses_amis(amis, prenom):\n    \"\"\"\n    Retourne le tableau des amis de prenom\n    \"\"\"\n    ses_amis=[]\n    i=0\n    while i<len(amis)/2:\n        if amis[2*i]== prenom :\n            ses_amis.append(amis[2*i+1])\n        elif amis[2*i+1]==prenom :\n            ses_amis.append(amis[2*i])\n        i+=1\n    return ses_amis\n\n    \n\nfrom time import * # import de la bibliothèque time\n\ntic = time()       # top départ\n\n########### Début du traitement à chronométer ###########\n\ndef dico_reseau(amis):\n    reseau={}\n    # membres du réseau \n    pers=personnes(amis)\n    # construction du dictionnaire\n    i=0\n    while i<len(pers):\n        reseau[pers[i]]=ses_amis(amis,pers[i])\n        i+=1\n    return reseau\n\n############ Fin du traitement à chronométer ############\n\ntac = time()           # arrêt du chronomètre\n\nprint(round(1000*(tac-tic),2),\" ms\")     # on convertit en ms et on arrondit au centième",
      "metadata": {
        "trusted": true
      },
      "outputs": [
        {
          "name": "stdout",
          "output_type": "stream",
          "text": "1.0  ms\n"
        }
      ],
      "execution_count": 1
    },
    {
      "id": "0e20bf2b-d335-4086-be8c-13158063dcc2",
      "cell_type": "markdown",
      "source": "On remarque içi qu'entre ces deux programmes, que la fonction \"dico_reseau\" est plus rapide que la fonction \"cree_reseau\" contrairement à ce qui été déduis dans la partie théorique.",
      "metadata": {}
    },
    {
      "id": "2414a61a-91b7-49c8-96cd-8bf8fcbc36ed",
      "cell_type": "markdown",
      "source": "### Question 11",
      "metadata": {}
    },
    {
      "id": "6f948010-cca5-4ac0-b164-9c81b20c4dc3",
      "cell_type": "markdown",
      "source": "On remarque que la fonction \"comu_dans_reseau\" est une fonction linéaire ce qui signifie que sa complexité vaut : O(1)\nAlors que la fonction \"comu_dans_amis\" possède la boucle for, donc sa complexité vaut : O(n)",
      "metadata": {}
    },
    {
      "id": "43ebb20a-ccc3-4a8e-a886-9fca27e98b73",
      "cell_type": "markdown",
      "source": "On peut en déduire que dans la majorité des cas la fonction \"comu dans amis\" prend plus de temps que \"comu_dans_reseau\"",
      "metadata": {}
    },
    {
      "id": "a92efad0-ba7f-47ed-9ecd-55c1f7de05d1",
      "cell_type": "code",
      "source": "############ Fonctions nécéssaire pour \"comu_dans_reseau\" ###########\n\n\ndef liste_personnes(dico):\n    tab=[]\n    for i in dico.keys():\n        tab.append(i)\n    return tab\n\ndef tri_popu(groupe,dico):\n    i=0\n    while i<len(groupe)-1:\n        maxi=i\n        j=i+1\n        while j<len(groupe):\n            if len(dico[groupe[j]])>len(dico[groupe[maxi]]):\n                maxi=j\n            j+=1\n        sup=groupe.pop(maxi)\n        groupe.insert(i,sup)\n        i+=1\n    return groupe\n\ndef sont_amis(dico,nom1,nom2):\n    if nom1 not in dico or nom2 not in dico:\n        return False\n    return nom1 in dico[nom2]\n\ndef sont_amis_de(nom,groupe,dico):\n    i=0\n    while i<len(groupe) and sont_amis(dico,groupe[i],nom):\n        i+=1\n    return i==len(groupe)\n\ndef comu(groupe,dico):\n    comun=[]\n    for i in groupe:\n        if sont_amis_de(i,comun,dico):\n            comun.append(i)\n    return comun\n    \n\n\nfrom time import * # import de la bibliothèque time\n\ntic = time()       # top départ\n\n########### Début du traitement à chronométer ###########\n\ndef comu_dans_reseau(dico):\n    groupe=liste_personnes(dico)\n    tri_popu(groupe,dico)\n    return comu(groupe,dico)\n\n############ Fin du traitement à chronométer ############\n\ntac = time()           # arrêt du chronomètre\n\nprint(round(1000*(tac-tic),2),\" ms\")     # on convertit en ms et on arrondit au centième",
      "metadata": {
        "trusted": true
      },
      "outputs": [
        {
          "name": "stdout",
          "output_type": "stream",
          "text": "0.0  ms\n"
        }
      ],
      "execution_count": 5
    },
    {
      "id": "f7246a50-b478-4ba1-8b57-324a104be9e3",
      "cell_type": "code",
      "source": "############ Fonctions nécéssaire pour \"comu_dans_amis\" ###########\n\ndef tri_popu(groupe,dico):\n    i=0\n    while i<len(groupe)-1:\n        maxi=i\n        j=i+1\n        while j<len(groupe):\n            if len(dico[groupe[j]])>len(dico[groupe[maxi]]):\n                maxi=j\n            j+=1\n        sup=groupe.pop(maxi)\n        groupe.insert(i,sup)\n        i+=1\n    return groupe\n\ndef sont_amis(dico,nom1,nom2):\n    if nom1 not in dico or nom2 not in dico:\n        return False\n    return nom1 in dico[nom2]\n\ndef sont_amis_de(nom,groupe,dico):\n    i=0\n    while i<len(groupe) and sont_amis(dico,groupe[i],nom):\n        i+=1\n    return i==len(groupe)\n\n    \n\nfrom time import * # import de la bibliothèque time\n\ntic = time()       # top départ\n\n########### Début du traitement à chronométer ###########\n\ndef comu_dans_amis(comun,dico):\n    groupe=dico[comun[0]]\n    tri_popu(groupe,dico)\n    for i in groupe:\n        if sont_amis_de(i,comun,dico):\n            comun.append(i)\n    return comun\n\n############ Fin du traitement à chronométer ############\n\ntac = time()           # arrêt du chronomètre\n\nprint(round(1000*(tac-tic),2),\" ms\")     # on convertit en ms et on arrondit au centième",
      "metadata": {
        "trusted": true
      },
      "outputs": [
        {
          "name": "stdout",
          "output_type": "stream",
          "text": "2.0  ms\n"
        }
      ],
      "execution_count": 2
    },
    {
      "id": "c3a500bc-1248-4d14-b03c-e796856ae7f7",
      "cell_type": "markdown",
      "source": "En regardant le resultat de quel programmes est le plus rapide à être executé on remarque que le resultat varie mais que le plus rapide reste la fonction \"comu_dans_reseau\" par rapport à la fonction \"comu_dans_amis\", comme l'on peut voir ci-dessus.",
      "metadata": {}
    }
  ]
}